{
  "nbformat": 4,
  "nbformat_minor": 0,
  "metadata": {
    "colab": {
      "provenance": [],
      "authorship_tag": "ABX9TyOQLdca2UznjeXh+7xU7yKu",
      "include_colab_link": true
    },
    "kernelspec": {
      "name": "python3",
      "display_name": "Python 3"
    },
    "language_info": {
      "name": "python"
    }
  },
  "cells": [
    {
      "cell_type": "markdown",
      "metadata": {
        "id": "view-in-github",
        "colab_type": "text"
      },
      "source": [
        "<a href=\"https://colab.research.google.com/github/radhakrishnan-omotec/image-classification-nimayseth-repo/blob/main/YOLO11_Project1.ipynb\" target=\"_parent\"><img src=\"https://colab.research.google.com/assets/colab-badge.svg\" alt=\"Open In Colab\"/></a>"
      ]
    },
    {
      "cell_type": "markdown",
      "source": [
        "#Training YOLO11 Object Detection and Image Organization on a Custom Dataset"
      ],
      "metadata": {
        "id": "BfEJRBY1zxlI"
      }
    },
    {
      "cell_type": "markdown",
      "source": [
        "This approach involves training YOLO11 on a custom dataset to detect objects, and then leveraging clustering techniques to organize and group images based on visual similarities among detected objects. This aligns with goals from the research paper for improved digital image categorization and retrieval."
      ],
      "metadata": {
        "id": "I1gc-4oTz6lK"
      }
    },
    {
      "cell_type": "markdown",
      "source": [
        "###Requirements\n",
        "\n",
        "    Roboflow API Key: Required for dataset import.\n",
        "\n",
        "    GPU Access: Confirm GPU access for faster training\n",
        "    (Edit -> Notebook settings -> Hardware accelerator -> GPU)."
      ],
      "metadata": {
        "id": "XgZymF37z_9j"
      }
    },
    {
      "cell_type": "code",
      "execution_count": null,
      "metadata": {
        "id": "DSK599bRzvQV"
      },
      "outputs": [],
      "source": [
        "!nvidia-smi\n"
      ]
    },
    {
      "cell_type": "markdown",
      "source": [
        "###Setup and Installation\n",
        "\n",
        "Define Constants:"
      ],
      "metadata": {
        "id": "7QnXgPuv0IIC"
      }
    },
    {
      "cell_type": "code",
      "source": [
        "import os\n",
        "HOME = os.getcwd()\n",
        "print(HOME)\n"
      ],
      "metadata": {
        "id": "Rx-iTsua0K6v"
      },
      "execution_count": null,
      "outputs": []
    },
    {
      "cell_type": "markdown",
      "source": [
        "Install YOLO11:"
      ],
      "metadata": {
        "id": "rxdaA_230Md_"
      }
    },
    {
      "cell_type": "code",
      "source": [
        "# Install necessary libraries\n",
        "!pip install ultralytics supervision roboflow\n",
        "import ultralytics\n",
        "ultralytics.checks()\n"
      ],
      "metadata": {
        "id": "5xNYYuGX0PGP"
      },
      "execution_count": null,
      "outputs": []
    },
    {
      "cell_type": "markdown",
      "source": [
        "##Initial Inference and Clustering\n",
        "###Step 1: Inference with Pre-trained Model\n",
        "\n",
        "Use the YOLO11 model pre-trained on COCO to test the object detection:"
      ],
      "metadata": {
        "id": "cIxTWLjl0Svj"
      }
    },
    {
      "cell_type": "code",
      "source": [
        "from ultralytics import YOLO\n",
        "from PIL import Image\n",
        "import requests\n",
        "\n",
        "model = YOLO('yolo11n.pt')\n",
        "image = Image.open(requests.get('https://media.roboflow.com/notebooks/examples/dog.jpeg', stream=True).raw)\n",
        "result = model.predict(image, conf=0.25)[0]\n"
      ],
      "metadata": {
        "id": "XxVl0rXt0V1n"
      },
      "execution_count": null,
      "outputs": []
    },
    {
      "cell_type": "markdown",
      "source": [
        "###Step 2: Extract Object Data and Cluster Images\n",
        "\n",
        "After detection, use feature vectors from the detected objects to group and categorize similar images.\n",
        "Leveraging supervision here provides access to bounding box and label annotations."
      ],
      "metadata": {
        "id": "3BeD1HrO0bIP"
      }
    },
    {
      "cell_type": "code",
      "source": [
        "import supervision as sv\n",
        "\n",
        "detections = sv.Detections.from_ultralytics(result)\n",
        "box_annotator = sv.BoxAnnotator()\n",
        "label_annotator = sv.LabelAnnotator(text_color=sv.Color.BLACK)\n",
        "\n",
        "annotated_image = box_annotator.annotate(image.copy(), detections=detections)\n",
        "annotated_image = label_annotator.annotate(annotated_image, detections=detections)\n"
      ],
      "metadata": {
        "id": "omSy4STx0ZU8"
      },
      "execution_count": null,
      "outputs": []
    },
    {
      "cell_type": "markdown",
      "source": [
        "###Step 3: Clustering Detected Objects for Image Organization\n",
        "\n",
        "Extract embeddings for each detected object and apply clustering (e.g., k-means) to group images by similar objects.\n",
        "This step helps create structured clusters for efficient image retrieval."
      ],
      "metadata": {
        "id": "Aj5qrMjs0fr6"
      }
    },
    {
      "cell_type": "code",
      "source": [
        "from sklearn.cluster import KMeans\n",
        "import numpy as np\n",
        "\n",
        "# Dummy feature extraction (replace with actual embedding extraction)\n",
        "features = np.array([detection.box for detection in detections])  # Placeholder\n",
        "kmeans = KMeans(n_clusters=5).fit(features)\n",
        "clusters = kmeans.predict(features)\n"
      ],
      "metadata": {
        "id": "PA6eubni0nfN"
      },
      "execution_count": null,
      "outputs": []
    },
    {
      "cell_type": "markdown",
      "source": [
        "###Step 4:Custom Dataset Preparation and Training\n",
        "###Dataset Download via Roboflow\n",
        "\n",
        "Download a custom dataset compatible with YOLO11 for fine-tuning."
      ],
      "metadata": {
        "id": "2s5fVR7R0kY5"
      }
    },
    {
      "cell_type": "code",
      "source": [
        "from google.colab import userdata\n",
        "from roboflow import Roboflow\n",
        "\n",
        "ROBOFLOW_API_KEY = userdata.get('ROBOFLOW_API_KEY')\n",
        "rf = Roboflow(api_key=ROBOFLOW_API_KEY)\n",
        "\n",
        "workspace = rf.workspace(\"user_workspace\")\n",
        "project = workspace.project(\"your_project_name\")\n",
        "version = project.version(1)\n",
        "dataset = version.download(\"yolov11\")\n"
      ],
      "metadata": {
        "id": "a1C-2cQL0rs1"
      },
      "execution_count": null,
      "outputs": []
    },
    {
      "cell_type": "markdown",
      "source": [
        "###Step 5:Fine-Tune YOLO11 on the Custom Dataset"
      ],
      "metadata": {
        "id": "UxGqsywc0mIR"
      }
    },
    {
      "cell_type": "code",
      "source": [
        "!yolo task=detect mode=train model=yolo11s.pt data={dataset.location}/data.yaml epochs=20 imgsz=640 plots=True\n"
      ],
      "metadata": {
        "id": "N2D0cjnH0vso"
      },
      "execution_count": null,
      "outputs": []
    },
    {
      "cell_type": "markdown",
      "source": [
        "###Step 6:Validation and Visualization"
      ],
      "metadata": {
        "id": "amD-Z_WG0xRF"
      }
    },
    {
      "cell_type": "code",
      "source": [
        "!yolo task=detect mode=val model={HOME}/runs/detect/train/weights/best.pt data={dataset.location}/data.yaml\n"
      ],
      "metadata": {
        "id": "RFPqntPO0w5W"
      },
      "execution_count": null,
      "outputs": []
    },
    {
      "cell_type": "markdown",
      "source": [
        "####Object Detection with Clustering Visualization\n",
        "\n",
        "This visualization step categorizes images based on detected object clusters to help with organization."
      ],
      "metadata": {
        "id": "UyTldyCE00ww"
      }
    },
    {
      "cell_type": "markdown",
      "source": [
        "By training YOLO11 and integrating clustering methods for image organization, this approach facilitates automatic sorting of detected objects into meaningful groups for streamlined large-scale image management."
      ],
      "metadata": {
        "id": "ZkMLILzg07AU"
      }
    },
    {
      "cell_type": "code",
      "source": [
        "from IPython.display import Image as IPyImage, display\n",
        "\n",
        "latest_folder = max(glob.glob(f'{HOME}/runs/detect/predict*/'), key=os.path.getmtime)\n",
        "for img_path in glob.glob(f'{latest_folder}/*.jpg')[:3]:\n",
        "    display(IPyImage(filename=img_path, width=600))\n"
      ],
      "metadata": {
        "id": "VfmdhX7i03G3"
      },
      "execution_count": null,
      "outputs": []
    },
    {
      "cell_type": "markdown",
      "source": [
        "###Final Step: Categorize and Save Images into Folders\n",
        "\n",
        "After fine-tuning YOLO11 and detecting objects, we’ll implement automatic grouping by saving images into folders based on the detected categories. Here’s how:"
      ],
      "metadata": {
        "id": "hsuJRz-50-TZ"
      }
    },
    {
      "cell_type": "markdown",
      "source": [
        "###Step 7: Extract and Assign Category Labels to Detected Objects\n",
        "\n",
        "We’ll start by assigning a primary category label to each image based on the object(s) detected."
      ],
      "metadata": {
        "id": "OpzpfPHE1EsT"
      }
    },
    {
      "cell_type": "code",
      "source": [
        "import os\n",
        "import shutil\n",
        "from ultralytics import YOLO\n",
        "from PIL import Image\n",
        "from sklearn.cluster import KMeans\n",
        "import numpy as np\n",
        "\n",
        "# Define the directory to save categorized images\n",
        "output_dir = os.path.join(HOME, 'categorized_images')\n",
        "os.makedirs(output_dir, exist_ok=True)\n",
        "\n",
        "# Load model and inference on custom images\n",
        "model = YOLO(f'{HOME}/runs/detect/train/weights/best.pt')\n",
        "image_paths = [f for f in glob.glob(f'{dataset.location}/test/images/*.jpg')]\n",
        "\n",
        "# Loop through images and detect objects\n",
        "for img_path in image_paths:\n",
        "    image = Image.open(img_path)\n",
        "    result = model.predict(image, conf=0.25)[0]\n",
        "\n",
        "    # Use the detected category with the highest confidence score as the folder name\n",
        "    categories = [result.names[int(cls)] for cls in result.boxes.cls]\n",
        "    primary_category = max(set(categories), key=categories.count)\n",
        "\n",
        "    # Create a directory for the primary category if it doesn’t exist\n",
        "    category_folder = os.path.join(output_dir, primary_category)\n",
        "    os.makedirs(category_folder, exist_ok=True)\n",
        "\n",
        "    # Save the image to the category folder\n",
        "    shutil.copy(img_path, os.path.join(category_folder, os.path.basename(img_path)))\n"
      ],
      "metadata": {
        "id": "_3qhyhhv0__5"
      },
      "execution_count": null,
      "outputs": []
    },
    {
      "cell_type": "markdown",
      "source": [
        "###Step 8: Folder Verification and Display\n",
        "\n",
        "After categorization, verify that images are correctly saved into their respective folders based on the main detected category."
      ],
      "metadata": {
        "id": "xr355ovz1XbG"
      }
    },
    {
      "cell_type": "markdown",
      "source": [
        "###Explanation\n",
        "\n",
        "\n",
        "*   Primary Category Selection: For each image, we choose the category with the highest frequency or confidence as the folder label.\n",
        "*   Folder Creation and Image Saving: The script creates a folder for each unique category and saves images into their corresponding folder.\n",
        "*   Final Check: The script outputs the contents of each folder, showing a sample of categorized images for verification.\n",
        "\n"
      ],
      "metadata": {
        "id": "hK6ZYU6r1fQD"
      }
    },
    {
      "cell_type": "code",
      "source": [
        "import os\n",
        "\n",
        "# List folders and their contents\n",
        "for folder_name in os.listdir(output_dir):\n",
        "    folder_path = os.path.join(output_dir, folder_name)\n",
        "    if os.path.isdir(folder_path):\n",
        "        print(f\"\\nCategory: {folder_name} (Total Images: {len(os.listdir(folder_path))})\")\n",
        "        for img_file in os.listdir(folder_path)[:3]:  # Show a few samples from each category\n",
        "            print(f\" - {img_file}\")\n"
      ],
      "metadata": {
        "id": "QQwJkQAY1XFq"
      },
      "execution_count": null,
      "outputs": []
    },
    {
      "cell_type": "markdown",
      "source": [
        "This approach streamlines image organization by automatically grouping similar images in category-named folders, making retrieval and management of large-scale datasets far more efficient."
      ],
      "metadata": {
        "id": "VKdq07ZJ1tXG"
      }
    }
  ]
}